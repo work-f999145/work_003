{
 "cells": [
  {
   "cell_type": "code",
   "execution_count": 16,
   "metadata": {},
   "outputs": [
    {
     "name": "stdout",
     "output_type": "stream",
     "text": [
      "{\"code\":\"RESP001\",\"instance\":\"/v1\",\"status\":422,\"title\":\"Could not get content. try enabling javascript rendering or antibot for a higher success rate (RESP001)\",\"type\":\"https://www.zenrows.com/documentation/api-error-codes#RESP001\"}\n"
     ]
    }
   ],
   "source": [
    "import requests\n",
    "\n",
    "url = 'https://sbermarket.ru/'\n",
    "apikey = '16c5f1ac6581a5851ba6e1e3a8524d47ea717419'\n",
    "params = {\n",
    "    'url': url,\n",
    "    'apikey': apikey,\n",
    "\t# 'js_render': 'true',\n",
    "\t# 'antibot': 'true',\n",
    "    'premium_proxy': 'true'\n",
    "}\n",
    "response = requests.get('https://api.zenrows.com/v1/', params=params)\n",
    "print(response.text)"
   ]
  },
  {
   "cell_type": "code",
   "execution_count": 13,
   "metadata": {},
   "outputs": [],
   "source": [
    "with open('test.html', 'wb') as file:\n",
    "    file.write(response.content)"
   ]
  }
 ],
 "metadata": {
  "kernelspec": {
   "display_name": "Python 3",
   "language": "python",
   "name": "python3"
  },
  "language_info": {
   "codemirror_mode": {
    "name": "ipython",
    "version": 3
   },
   "file_extension": ".py",
   "mimetype": "text/x-python",
   "name": "python",
   "nbconvert_exporter": "python",
   "pygments_lexer": "ipython3",
   "version": "3.11.4"
  },
  "orig_nbformat": 4
 },
 "nbformat": 4,
 "nbformat_minor": 2
}
